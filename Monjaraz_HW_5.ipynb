{
  "nbformat": 4,
  "nbformat_minor": 0,
  "metadata": {
    "colab": {
      "name": "Monjaraz_HW_5.ipynb",
      "provenance": [],
      "collapsed_sections": []
    },
    "kernelspec": {
      "name": "python3",
      "display_name": "Python 3"
    }
  },
  "cells": [
    {
      "cell_type": "code",
      "metadata": {
        "colab": {
          "base_uri": "https://localhost:8080/"
        },
        "id": "0mfP9-x8Lkcq",
        "outputId": "d71f25dc-fa6d-4a1c-b510-800201888a82"
      },
      "source": [
        "def testscore_input():\r\n",
        "  test1 = float(input(\"Enter test 1: \"))\r\n",
        "  test2 = float(input(\"Enter test 2: \"))\r\n",
        "  test3 = float(input(\"Enter test 3: \"))\r\n",
        "  test4 = float(input(\"Enter test 4: \"))\r\n",
        "  test5 = float(input(\"Enter test 5: \"))\r\n",
        "  print()\r\n",
        "  average = (test1 + test2 + test3 + test4 + test5) / 5\r\n",
        "  print(\"Average Test Score: \") \r\n",
        "  print(average)\r\n",
        "\r\n",
        "  return test1, test2, test3, test4, test5\r\n",
        "\r\n",
        "\r\n",
        "def determine_grade(score):\r\n",
        "  if (score < 60):\r\n",
        "    return \"F\"\r\n",
        "  elif (score < 70):\r\n",
        "    return \"D\"\r\n",
        "  elif (score < 80):\r\n",
        "    return \"C\"\r\n",
        "  elif (score < 90):\r\n",
        "    return \"B\"\r\n",
        "  elif (score < 101):\r\n",
        "    return \"A\"\r\n",
        "\r\n",
        "def printTable(test1, test2, test3, test4, test5):\r\n",
        "  print(\"Score\\tLetter Grade\")\r\n",
        "  print(str(test1) + \"\\t\\t\" + determine_grade(test1), \\\r\n",
        "        str(test2) + \"\\t\\t\" + determine_grade(test2), \\\r\n",
        "        str(test3) + \"\\t\\t\" + determine_grade(test3), \\\r\n",
        "        str(test4) + \"\\t\\t\" + determine_grade(test4), \\\r\n",
        "        str(test5) + \"\\t\\t\" + determine_grade(test5), sep = \"\\n\")\r\n",
        "        \r\n",
        "\r\n",
        "def main():\r\n",
        "  test1, test2, test3, test4, test5 = testscore_input()\r\n",
        "  print()\r\n",
        "  printTable(test1, test2, test3, test4, test5)\r\n",
        "\r\n",
        "main()\r\n",
        "\r\n",
        "\r\n",
        "\r\n"
      ],
      "execution_count": 90,
      "outputs": [
        {
          "output_type": "stream",
          "text": [
            "Enter test 1: 60\n",
            "Enter test 2: 70\n",
            "Enter test 3: 80\n",
            "Enter test 4: 90\n",
            "Enter test 5: 100\n",
            "\n",
            "Average Test Score: \n",
            "80.0\n",
            "\n",
            "Score\tLetter Grade\n",
            "60.0\t\tD\n",
            "70.0\t\tC\n",
            "80.0\t\tB\n",
            "90.0\t\tA\n",
            "100.0\t\tA\n"
          ],
          "name": "stdout"
        }
      ]
    }
  ]
}